{
  "nbformat": 4,
  "nbformat_minor": 0,
  "metadata": {
    "colab": {
      "name": "Cross-Validation-Python-Notebook.ipynb",
      "provenance": []
    },
    "kernelspec": {
      "name": "python3",
      "display_name": "Python 3"
    }
  },
  "cells": [
    {
      "cell_type": "markdown",
      "metadata": {
        "id": "Vp6YecUwb9KV",
        "colab_type": "text"
      },
      "source": [
        "# k-folds Cross Validation"
      ]
    },
    {
      "cell_type": "code",
      "metadata": {
        "id": "UWMki1AVdemk",
        "colab_type": "code",
        "colab": {
          "base_uri": "https://localhost:8080/",
          "height": 85
        },
        "outputId": "f759a3a0-1348-4474-932d-20201d7a1941"
      },
      "source": [
        "# Loading our dataset\n",
        "#\n",
        "wine = pd.read_csv(\"winequality-red.csv\")\n",
        "wine.columns"
      ],
      "execution_count": 27,
      "outputs": [
        {
          "output_type": "execute_result",
          "data": {
            "text/plain": [
              "Index(['fixed acidity', 'volatile acidity', 'citric acid', 'residual sugar',\n",
              "       'chlorides', 'free sulfur dioxide', 'total sulfur dioxide', 'density',\n",
              "       'pH', 'sulphates', 'alcohol', 'quality'],\n",
              "      dtype='object')"
            ]
          },
          "metadata": {
            "tags": []
          },
          "execution_count": 27
        }
      ]
    },
    {
      "cell_type": "code",
      "metadata": {
        "id": "Sq6KNCp8badA",
        "colab_type": "code",
        "colab": {}
      },
      "source": [
        "from sklearn.linear_model import LinearRegression\n",
        "from sklearn import metrics"
      ],
      "execution_count": 0,
      "outputs": []
    },
    {
      "cell_type": "code",
      "metadata": {
        "id": "WrEp5tjDb81J",
        "colab_type": "code",
        "colab": {
          "base_uri": "https://localhost:8080/",
          "height": 544
        },
        "outputId": "24bd7006-804c-4583-a897-ed4ebbc71679"
      },
      "source": [
        "from sklearn.model_selection import KFold\n",
        "\n",
        "X = wine[['fixed acidity', 'volatile acidity', 'citric acid', 'residual sugar',\\\n",
        "          'chlorides', 'free sulfur dioxide', 'total sulfur dioxide', 'density',\\\n",
        "          'pH', 'sulphates', 'alcohol']].values\n",
        "y = wine['quality'].values\n",
        "\n",
        "folds = KFold(n_splits=10)\n",
        "\n",
        "# Get number of folds\n",
        "#\n",
        "print('we are using ' +str(folds.get_n_splits(X)) + ' folds')\n",
        "\n",
        "# Keeping track of the RMSE\n",
        "RMSES = []\n",
        "count = 1\n",
        "\n",
        "for train_index, test_index in folds.split(X):\n",
        "  print('\\nTraining model ' + str(count))\n",
        "\n",
        "  # set up the train and test based on the split determined by KFold\n",
        "  X_train, X_test = X[train_index], X[test_index]\n",
        "  y_train, y_test = y[train_index], y[test_index]\n",
        "\n",
        "  # Fit our model\n",
        "  regressor = LinearRegression()\n",
        "  regressor.fit(X_train, y_train)\n",
        "\n",
        "  # Predict and Check accuracy of the model\n",
        "  y_pred = regressor.predict(X_test)\n",
        "\n",
        "  rmse_value = np.sqrt(metrics.mean_squared_error(y_test, y_pred))\n",
        "  RMSES.append(rmse_value)\n",
        "\n",
        "  print('Model ' + str(count) + ' Root Mean Squared Error:',rmse_value)\n",
        "  count = count + 1"
      ],
      "execution_count": 25,
      "outputs": [
        {
          "output_type": "stream",
          "text": [
            "we are using 10 folds\n",
            "\n",
            "Training model 1\n",
            "Model 1 Root Mean Squared Error: 0.6862481195221853\n",
            "\n",
            "Training model 2\n",
            "Model 2 Root Mean Squared Error: 0.6324703434524646\n",
            "\n",
            "Training model 3\n",
            "Model 3 Root Mean Squared Error: 0.6850468988873284\n",
            "\n",
            "Training model 4\n",
            "Model 4 Root Mean Squared Error: 0.6570566965861605\n",
            "\n",
            "Training model 5\n",
            "Model 5 Root Mean Squared Error: 0.6137235391805054\n",
            "\n",
            "Training model 6\n",
            "Model 6 Root Mean Squared Error: 0.7236010030500887\n",
            "\n",
            "Training model 7\n",
            "Model 7 Root Mean Squared Error: 0.632819730557344\n",
            "\n",
            "Training model 8\n",
            "Model 8 Root Mean Squared Error: 0.6553239884798194\n",
            "\n",
            "Training model 9\n",
            "Model 9 Root Mean Squared Error: 0.6014941518907087\n",
            "\n",
            "Training model 10\n",
            "Model 10 Root Mean Squared Error: 0.698513075772105\n"
          ],
          "name": "stdout"
        }
      ]
    },
    {
      "cell_type": "markdown",
      "metadata": {
        "id": "-9ETa3EhYVgx",
        "colab_type": "text"
      },
      "source": [
        "# Leave One Out Cross Validation"
      ]
    },
    {
      "cell_type": "code",
      "metadata": {
        "id": "p0o_3qcbYvwM",
        "colab_type": "code",
        "colab": {
          "base_uri": "https://localhost:8080/",
          "height": 85
        },
        "outputId": "9b84b8a1-f4e2-44fa-8a7d-82a13384e26a"
      },
      "source": [
        "from sklearn.model_selection import LeaveOneOut\n",
        "\n",
        "X = wine[['fixed acidity', 'volatile acidity', 'citric acid', 'residual sugar',\\\n",
        "          'chlorides', 'free sulfur dioxide', 'total sulfur dioxide', 'density',\\\n",
        "          'pH', 'sulphates', 'alcohol']].values\n",
        "y = wine['quality'].values\n",
        "\n",
        "folds = LeaveOneOut()\n",
        "\n",
        "# Get number of folds\n",
        "#\n",
        "print('we are using ' +str(folds.get_n_splits(X)) + ' folds')\n",
        "\n",
        "# Keeping track of the RMSE\n",
        "RMSES = []\n",
        "count = 0\n",
        "\n",
        "for train_index, test_index in folds.split(X):\n",
        "\n",
        "   # set up the train and test based on the split determined by KFold\n",
        "   X_train, X_test = X[train_index], X[test_index]\n",
        "   y_train, y_test = y[train_index], y[test_index]\n",
        "\n",
        "   # Fit our model\n",
        "   regressor = LinearRegression()\n",
        "   regressor.fit(X_train, y_train)\n",
        "\n",
        "   # Predict and Check accuracy of the model\n",
        "   y_pred = regressor.predict(X_test)\n",
        "\n",
        "   rmse_value = np.sqrt(metrics.mean_squared_error(y_test, y_pred))\n",
        "   RMSES.append(rmse_value)\n",
        "\n",
        "   count += 1\n",
        "\n",
        "print('trained ' +str(count) + ' models\\n')\n",
        "print(f\"Mean RMSES: {np.mean(RMSES)}\")"
      ],
      "execution_count": 28,
      "outputs": [
        {
          "output_type": "stream",
          "text": [
            "we are using 1599 folds\n",
            "trained 1599 models\n",
            "\n",
            "Mean RMSES: 0.5046835224228031\n"
          ],
          "name": "stdout"
        }
      ]
    },
    {
      "cell_type": "code",
      "metadata": {
        "id": "rFKg-uR-bR3k",
        "colab_type": "code",
        "colab": {}
      },
      "source": [
        ""
      ],
      "execution_count": 0,
      "outputs": []
    }
  ]
}